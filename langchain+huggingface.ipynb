{
  "nbformat": 4,
  "nbformat_minor": 0,
  "metadata": {
    "colab": {
      "provenance": [],
      "gpuType": "T4",
      "authorship_tag": "ABX9TyOrIPD7WV7qW+i8ZElxga/8",
      "include_colab_link": true
    },
    "kernelspec": {
      "name": "python3",
      "display_name": "Python 3"
    },
    "language_info": {
      "name": "python"
    },
    "accelerator": "GPU"
  },
  "cells": [
    {
      "cell_type": "markdown",
      "metadata": {
        "id": "view-in-github",
        "colab_type": "text"
      },
      "source": [
        "<a href=\"https://colab.research.google.com/github/hmzakt/langchain-hugging_face_hub/blob/main/langchain%2Bhuggingface.ipynb\" target=\"_parent\"><img src=\"https://colab.research.google.com/assets/colab-badge.svg\" alt=\"Open In Colab\"/></a>"
      ]
    },
    {
      "cell_type": "code",
      "execution_count": 1,
      "metadata": {
        "colab": {
          "base_uri": "https://localhost:8080/"
        },
        "id": "UFrN6qHvo_pv",
        "outputId": "6a79422e-1c82-4676-c7ec-a6a2e81fb3d0"
      },
      "outputs": [
        {
          "output_type": "stream",
          "name": "stdout",
          "text": [
            "Tue Oct 21 22:00:48 2025       \n",
            "+-----------------------------------------------------------------------------------------+\n",
            "| NVIDIA-SMI 550.54.15              Driver Version: 550.54.15      CUDA Version: 12.4     |\n",
            "|-----------------------------------------+------------------------+----------------------+\n",
            "| GPU  Name                 Persistence-M | Bus-Id          Disp.A | Volatile Uncorr. ECC |\n",
            "| Fan  Temp   Perf          Pwr:Usage/Cap |           Memory-Usage | GPU-Util  Compute M. |\n",
            "|                                         |                        |               MIG M. |\n",
            "|=========================================+========================+======================|\n",
            "|   0  Tesla T4                       Off |   00000000:00:04.0 Off |                    0 |\n",
            "| N/A   78C    P0             35W /   70W |       0MiB /  15360MiB |      0%      Default |\n",
            "|                                         |                        |                  N/A |\n",
            "+-----------------------------------------+------------------------+----------------------+\n",
            "                                                                                         \n",
            "+-----------------------------------------------------------------------------------------+\n",
            "| Processes:                                                                              |\n",
            "|  GPU   GI   CI        PID   Type   Process name                              GPU Memory |\n",
            "|        ID   ID                                                               Usage      |\n",
            "|=========================================================================================|\n",
            "|  No running processes found                                                             |\n",
            "+-----------------------------------------------------------------------------------------+\n"
          ]
        }
      ],
      "source": [
        "!nvidia-smi"
      ]
    },
    {
      "cell_type": "code",
      "source": [
        "!pip -q install transformers einops accelerate langchain bitsandbytes"
      ],
      "metadata": {
        "id": "fEHSEUYHp7MC",
        "colab": {
          "base_uri": "https://localhost:8080/"
        },
        "outputId": "4ac6935a-7bba-4bca-e5fc-664a895517c5"
      },
      "execution_count": 2,
      "outputs": [
        {
          "output_type": "stream",
          "name": "stdout",
          "text": [
            "\u001b[?25l   \u001b[90m━━━━━━━━━━━━━━━━━━━━━━━━━━━━━━━━━━━━━━━━\u001b[0m \u001b[32m0.0/107.8 kB\u001b[0m \u001b[31m?\u001b[0m eta \u001b[36m-:--:--\u001b[0m\r\u001b[2K   \u001b[90m━━━━━━━━━━━━━━━━━━━━━━━━━━━━━━━━━━━━━━━━\u001b[0m \u001b[32m107.8/107.8 kB\u001b[0m \u001b[31m3.1 MB/s\u001b[0m eta \u001b[36m0:00:00\u001b[0m\n",
            "\u001b[?25h\u001b[?25l   \u001b[90m━━━━━━━━━━━━━━━━━━━━━━━━━━━━━━━━━━━━━━━━\u001b[0m \u001b[32m0.0/155.4 kB\u001b[0m \u001b[31m?\u001b[0m eta \u001b[36m-:--:--\u001b[0m\r\u001b[2K   \u001b[90m━━━━━━━━━━━━━━━━━━━━━━━━━━━━━━━━━━━━━━━━\u001b[0m \u001b[32m155.4/155.4 kB\u001b[0m \u001b[31m9.6 MB/s\u001b[0m eta \u001b[36m0:00:00\u001b[0m\n",
            "\u001b[?25h\u001b[?25l   \u001b[90m━━━━━━━━━━━━━━━━━━━━━━━━━━━━━━━━━━━━━━━━\u001b[0m \u001b[32m0.0/46.1 kB\u001b[0m \u001b[31m?\u001b[0m eta \u001b[36m-:--:--\u001b[0m\r\u001b[2K   \u001b[90m━━━━━━━━━━━━━━━━━━━━━━━━━━━━━━━━━━━━━━━━\u001b[0m \u001b[32m46.1/46.1 kB\u001b[0m \u001b[31m2.4 MB/s\u001b[0m eta \u001b[36m0:00:00\u001b[0m\n",
            "\u001b[2K   \u001b[90m━━━━━━━━━━━━━━━━━━━━━━━━━━━━━━━━━━━━━━━━\u001b[0m \u001b[32m56.8/56.8 kB\u001b[0m \u001b[31m2.6 MB/s\u001b[0m eta \u001b[36m0:00:00\u001b[0m\n",
            "\u001b[2K   \u001b[90m━━━━━━━━━━━━━━━━━━━━━━━━━━━━━━━━━━━━━━━━\u001b[0m \u001b[32m207.6/207.6 kB\u001b[0m \u001b[31m17.1 MB/s\u001b[0m eta \u001b[36m0:00:00\u001b[0m\n",
            "\u001b[?25h"
          ]
        }
      ]
    },
    {
      "cell_type": "code",
      "source": [
        "!hugghf_FcrxBWMIdGYDPzDrYqqeUijMsWHerjSPfHingface-cli login"
      ],
      "metadata": {
        "id": "kkWvV9nzp90-",
        "colab": {
          "base_uri": "https://localhost:8080/"
        },
        "outputId": "78cd05b2-358f-4d44-a600-bb53c7b6b5e3"
      },
      "execution_count": 3,
      "outputs": [
        {
          "output_type": "stream",
          "name": "stdout",
          "text": [
            "/bin/bash: line 1: hugghf_FcrxBWMIdGYDPzDrYqqeUijMsWHerjSPfHingface-cli: command not found\n"
          ]
        }
      ]
    },
    {
      "cell_type": "code",
      "source": [
        "!pip install langchain_community"
      ],
      "metadata": {
        "colab": {
          "base_uri": "https://localhost:8080/"
        },
        "id": "8IVGXvRhq0ok",
        "outputId": "763b4756-851d-4f48-f2d5-c5fad6a698f9"
      },
      "execution_count": 4,
      "outputs": [
        {
          "output_type": "stream",
          "name": "stdout",
          "text": [
            "Requirement already satisfied: langchain_community in /usr/local/lib/python3.12/dist-packages (0.4)\n",
            "Requirement already satisfied: langchain-core<2.0.0,>=1.0.0 in /usr/local/lib/python3.12/dist-packages (from langchain_community) (1.0.0)\n",
            "Requirement already satisfied: langchain-classic<2.0.0,>=1.0.0 in /usr/local/lib/python3.12/dist-packages (from langchain_community) (1.0.0)\n",
            "Requirement already satisfied: SQLAlchemy<3.0.0,>=1.4.0 in /usr/local/lib/python3.12/dist-packages (from langchain_community) (2.0.44)\n",
            "Requirement already satisfied: requests<3.0.0,>=2.32.5 in /usr/local/lib/python3.12/dist-packages (from langchain_community) (2.32.5)\n",
            "Requirement already satisfied: PyYAML<7.0.0,>=5.3.0 in /usr/local/lib/python3.12/dist-packages (from langchain_community) (6.0.3)\n",
            "Requirement already satisfied: aiohttp<4.0.0,>=3.8.3 in /usr/local/lib/python3.12/dist-packages (from langchain_community) (3.13.0)\n",
            "Requirement already satisfied: tenacity!=8.4.0,<10.0.0,>=8.1.0 in /usr/local/lib/python3.12/dist-packages (from langchain_community) (8.5.0)\n",
            "Requirement already satisfied: dataclasses-json<0.7.0,>=0.6.7 in /usr/local/lib/python3.12/dist-packages (from langchain_community) (0.6.7)\n",
            "Requirement already satisfied: pydantic-settings<3.0.0,>=2.10.1 in /usr/local/lib/python3.12/dist-packages (from langchain_community) (2.11.0)\n",
            "Requirement already satisfied: langsmith<1.0.0,>=0.1.125 in /usr/local/lib/python3.12/dist-packages (from langchain_community) (0.4.37)\n",
            "Requirement already satisfied: httpx-sse<1.0.0,>=0.4.0 in /usr/local/lib/python3.12/dist-packages (from langchain_community) (0.4.3)\n",
            "Requirement already satisfied: numpy>=1.26.2 in /usr/local/lib/python3.12/dist-packages (from langchain_community) (2.0.2)\n",
            "Requirement already satisfied: aiohappyeyeballs>=2.5.0 in /usr/local/lib/python3.12/dist-packages (from aiohttp<4.0.0,>=3.8.3->langchain_community) (2.6.1)\n",
            "Requirement already satisfied: aiosignal>=1.4.0 in /usr/local/lib/python3.12/dist-packages (from aiohttp<4.0.0,>=3.8.3->langchain_community) (1.4.0)\n",
            "Requirement already satisfied: attrs>=17.3.0 in /usr/local/lib/python3.12/dist-packages (from aiohttp<4.0.0,>=3.8.3->langchain_community) (25.4.0)\n",
            "Requirement already satisfied: frozenlist>=1.1.1 in /usr/local/lib/python3.12/dist-packages (from aiohttp<4.0.0,>=3.8.3->langchain_community) (1.8.0)\n",
            "Requirement already satisfied: multidict<7.0,>=4.5 in /usr/local/lib/python3.12/dist-packages (from aiohttp<4.0.0,>=3.8.3->langchain_community) (6.7.0)\n",
            "Requirement already satisfied: propcache>=0.2.0 in /usr/local/lib/python3.12/dist-packages (from aiohttp<4.0.0,>=3.8.3->langchain_community) (0.4.1)\n",
            "Requirement already satisfied: yarl<2.0,>=1.17.0 in /usr/local/lib/python3.12/dist-packages (from aiohttp<4.0.0,>=3.8.3->langchain_community) (1.22.0)\n",
            "Requirement already satisfied: marshmallow<4.0.0,>=3.18.0 in /usr/local/lib/python3.12/dist-packages (from dataclasses-json<0.7.0,>=0.6.7->langchain_community) (3.26.1)\n",
            "Requirement already satisfied: typing-inspect<1,>=0.4.0 in /usr/local/lib/python3.12/dist-packages (from dataclasses-json<0.7.0,>=0.6.7->langchain_community) (0.9.0)\n",
            "Requirement already satisfied: langchain-text-splitters<2.0.0,>=1.0.0 in /usr/local/lib/python3.12/dist-packages (from langchain-classic<2.0.0,>=1.0.0->langchain_community) (1.0.0)\n",
            "Requirement already satisfied: pydantic<3.0.0,>=2.7.4 in /usr/local/lib/python3.12/dist-packages (from langchain-classic<2.0.0,>=1.0.0->langchain_community) (2.11.10)\n",
            "Requirement already satisfied: jsonpatch<2.0.0,>=1.33.0 in /usr/local/lib/python3.12/dist-packages (from langchain-core<2.0.0,>=1.0.0->langchain_community) (1.33)\n",
            "Requirement already satisfied: packaging<26.0.0,>=23.2.0 in /usr/local/lib/python3.12/dist-packages (from langchain-core<2.0.0,>=1.0.0->langchain_community) (25.0)\n",
            "Requirement already satisfied: typing-extensions<5.0.0,>=4.7.0 in /usr/local/lib/python3.12/dist-packages (from langchain-core<2.0.0,>=1.0.0->langchain_community) (4.15.0)\n",
            "Requirement already satisfied: httpx<1,>=0.23.0 in /usr/local/lib/python3.12/dist-packages (from langsmith<1.0.0,>=0.1.125->langchain_community) (0.28.1)\n",
            "Requirement already satisfied: orjson>=3.9.14 in /usr/local/lib/python3.12/dist-packages (from langsmith<1.0.0,>=0.1.125->langchain_community) (3.11.3)\n",
            "Requirement already satisfied: requests-toolbelt>=1.0.0 in /usr/local/lib/python3.12/dist-packages (from langsmith<1.0.0,>=0.1.125->langchain_community) (1.0.0)\n",
            "Requirement already satisfied: zstandard>=0.23.0 in /usr/local/lib/python3.12/dist-packages (from langsmith<1.0.0,>=0.1.125->langchain_community) (0.25.0)\n",
            "Requirement already satisfied: python-dotenv>=0.21.0 in /usr/local/lib/python3.12/dist-packages (from pydantic-settings<3.0.0,>=2.10.1->langchain_community) (1.1.1)\n",
            "Requirement already satisfied: typing-inspection>=0.4.0 in /usr/local/lib/python3.12/dist-packages (from pydantic-settings<3.0.0,>=2.10.1->langchain_community) (0.4.2)\n",
            "Requirement already satisfied: charset_normalizer<4,>=2 in /usr/local/lib/python3.12/dist-packages (from requests<3.0.0,>=2.32.5->langchain_community) (3.4.4)\n",
            "Requirement already satisfied: idna<4,>=2.5 in /usr/local/lib/python3.12/dist-packages (from requests<3.0.0,>=2.32.5->langchain_community) (3.11)\n",
            "Requirement already satisfied: urllib3<3,>=1.21.1 in /usr/local/lib/python3.12/dist-packages (from requests<3.0.0,>=2.32.5->langchain_community) (2.5.0)\n",
            "Requirement already satisfied: certifi>=2017.4.17 in /usr/local/lib/python3.12/dist-packages (from requests<3.0.0,>=2.32.5->langchain_community) (2025.10.5)\n",
            "Requirement already satisfied: greenlet>=1 in /usr/local/lib/python3.12/dist-packages (from SQLAlchemy<3.0.0,>=1.4.0->langchain_community) (3.2.4)\n",
            "Requirement already satisfied: anyio in /usr/local/lib/python3.12/dist-packages (from httpx<1,>=0.23.0->langsmith<1.0.0,>=0.1.125->langchain_community) (4.11.0)\n",
            "Requirement already satisfied: httpcore==1.* in /usr/local/lib/python3.12/dist-packages (from httpx<1,>=0.23.0->langsmith<1.0.0,>=0.1.125->langchain_community) (1.0.9)\n",
            "Requirement already satisfied: h11>=0.16 in /usr/local/lib/python3.12/dist-packages (from httpcore==1.*->httpx<1,>=0.23.0->langsmith<1.0.0,>=0.1.125->langchain_community) (0.16.0)\n",
            "Requirement already satisfied: jsonpointer>=1.9 in /usr/local/lib/python3.12/dist-packages (from jsonpatch<2.0.0,>=1.33.0->langchain-core<2.0.0,>=1.0.0->langchain_community) (3.0.0)\n",
            "Requirement already satisfied: annotated-types>=0.6.0 in /usr/local/lib/python3.12/dist-packages (from pydantic<3.0.0,>=2.7.4->langchain-classic<2.0.0,>=1.0.0->langchain_community) (0.7.0)\n",
            "Requirement already satisfied: pydantic-core==2.33.2 in /usr/local/lib/python3.12/dist-packages (from pydantic<3.0.0,>=2.7.4->langchain-classic<2.0.0,>=1.0.0->langchain_community) (2.33.2)\n",
            "Requirement already satisfied: mypy-extensions>=0.3.0 in /usr/local/lib/python3.12/dist-packages (from typing-inspect<1,>=0.4.0->dataclasses-json<0.7.0,>=0.6.7->langchain_community) (1.1.0)\n",
            "Requirement already satisfied: sniffio>=1.1 in /usr/local/lib/python3.12/dist-packages (from anyio->httpx<1,>=0.23.0->langsmith<1.0.0,>=0.1.125->langchain_community) (1.3.1)\n"
          ]
        }
      ]
    },
    {
      "cell_type": "code",
      "source": [
        "from langchain_community.llms import HuggingFacePipeline"
      ],
      "metadata": {
        "id": "Cx4sjGZhrHYm"
      },
      "execution_count": 5,
      "outputs": []
    },
    {
      "cell_type": "code",
      "source": [
        "from transformers import AutoTokenizer"
      ],
      "metadata": {
        "id": "4qdtHpQmrjsV"
      },
      "execution_count": 6,
      "outputs": []
    },
    {
      "cell_type": "code",
      "source": [
        "import transformers"
      ],
      "metadata": {
        "id": "8G0PbsrIrpMU"
      },
      "execution_count": 7,
      "outputs": []
    },
    {
      "cell_type": "code",
      "source": [
        "import torch"
      ],
      "metadata": {
        "id": "73YkJCZcrrgw"
      },
      "execution_count": 8,
      "outputs": []
    },
    {
      "cell_type": "code",
      "source": [
        "import warnings\n",
        "warnings.filterwarnings('ignore')"
      ],
      "metadata": {
        "id": "zXWQQoIErufb"
      },
      "execution_count": 9,
      "outputs": []
    },
    {
      "cell_type": "code",
      "source": [
        "model = \"meta-llama/Llama-2-7b-chat-hf\""
      ],
      "metadata": {
        "id": "TnOTnRFjryfp"
      },
      "execution_count": 10,
      "outputs": []
    },
    {
      "cell_type": "code",
      "source": [
        "tokenizer = AutoTokenizer.from_pretrained(model)"
      ],
      "metadata": {
        "colab": {
          "base_uri": "https://localhost:8080/",
          "height": 145,
          "referenced_widgets": [
            "e6cc12b128534aff80c4e1313e1818db",
            "56fea81565714b43b6958e0005ae8bbf",
            "8e6782c50ee54364942de6c68ba595f0",
            "a402f99d33ec42f68e6574ca1c0ceb40",
            "1bf2dbffaf5a432981c835ac135119fb",
            "43df42fa6df946569823b76db1c5f876",
            "4f97e9e33e614ef7903798d8238b8ede",
            "a208297aed9a4574ac1d20f5ace6f331",
            "aad008112df64f2dacd8881e2138da85",
            "44b4cdf569d1491fb2016019ee60cd05",
            "eab091f6ef6a41f4b8f5a65b52a5a574",
            "d3848f32d5d24722919b2f2ba35407ad",
            "fa13d774ab514bdda7890fd6952db7f5",
            "2582a1e1a8524e989c7add5d379fe902",
            "98474e00597647aab031734cca8d90fb",
            "4d687e87542d44af897b7427a4082d5d",
            "20d2d457bba64283a2f2b99d11a3694d",
            "dedac4d954d0418c86a24cce091c9fa8",
            "722c2907d01a45f9b5d194d347858184",
            "f86f678bfff946a19a66a8eb1129083c",
            "c6d8321f875640c684fbdc66a7619d17",
            "43f7210b5d534d83aeb6b34f721c7fbb",
            "5ae725b424454a13935f851cc01c5eba",
            "f920265df8f646e9988c8046bf8df996",
            "03f4f85cc8064eddbe5217ae0e941570",
            "c1a85cbe3b004699be1fd07e5f92cc32",
            "42b44543907d4274aab649e6084bb4c3",
            "8e392794a5734777b90a2c7d9cb80824",
            "782e9a62c2e64a03989f847166d0620d",
            "7ede1192400a420380f5fc9476e16699",
            "e07b277ef8d74da592448f400975fab9",
            "bd0172fa17de43a69af4f0f7e3ed53ed",
            "96302ee2ff5644ea8615fd4b8e2256dd",
            "0ba7c98b67cb41a5a7b28c77124439bb",
            "43434f5174a84f5ba15ea2d7bb45571b",
            "aea8014f48124ff699fb8b23fb244aa5",
            "e5fa3db265d04612b8b7331cd16b619e",
            "802ab4a3a8b14c658127455582880793",
            "896c801af8884660b6b4801892dc6d38",
            "2b07e42f2e234589b9547b1a76460bab",
            "3a18d47008594bcf935576c52d1217f5",
            "4714950e243a440c86148c092effbdca",
            "7c5f5ff4db3343ce845ee2eed79bfbc3",
            "b71c667a503a4e6e8c85bac3f9dab05a"
          ]
        },
        "id": "vQk3eM41sCSk",
        "outputId": "6d44616a-0f69-454b-ec57-19abe8002c21"
      },
      "execution_count": 11,
      "outputs": [
        {
          "output_type": "display_data",
          "data": {
            "text/plain": [
              "tokenizer_config.json:   0%|          | 0.00/1.62k [00:00<?, ?B/s]"
            ],
            "application/vnd.jupyter.widget-view+json": {
              "version_major": 2,
              "version_minor": 0,
              "model_id": "e6cc12b128534aff80c4e1313e1818db"
            }
          },
          "metadata": {}
        },
        {
          "output_type": "display_data",
          "data": {
            "text/plain": [
              "tokenizer.model:   0%|          | 0.00/500k [00:00<?, ?B/s]"
            ],
            "application/vnd.jupyter.widget-view+json": {
              "version_major": 2,
              "version_minor": 0,
              "model_id": "d3848f32d5d24722919b2f2ba35407ad"
            }
          },
          "metadata": {}
        },
        {
          "output_type": "display_data",
          "data": {
            "text/plain": [
              "tokenizer.json:   0%|          | 0.00/1.84M [00:00<?, ?B/s]"
            ],
            "application/vnd.jupyter.widget-view+json": {
              "version_major": 2,
              "version_minor": 0,
              "model_id": "5ae725b424454a13935f851cc01c5eba"
            }
          },
          "metadata": {}
        },
        {
          "output_type": "display_data",
          "data": {
            "text/plain": [
              "special_tokens_map.json:   0%|          | 0.00/414 [00:00<?, ?B/s]"
            ],
            "application/vnd.jupyter.widget-view+json": {
              "version_major": 2,
              "version_minor": 0,
              "model_id": "0ba7c98b67cb41a5a7b28c77124439bb"
            }
          },
          "metadata": {}
        }
      ]
    },
    {
      "cell_type": "code",
      "source": [
        "pipeline = transformers.pipeline(\n",
        "    \"text-generation\",\n",
        "    model=model,\n",
        "    tokenizer=tokenizer,\n",
        "    torch_dtype=torch.bfloat16,\n",
        "    device_map=\"auto\",\n",
        "    max_length=1000,\n",
        "    do_sample=True,\n",
        "    top_k=10,\n",
        "    num_return_sequences=1,\n",
        "    eos_token_id = tokenizer.eos_token_id\n",
        ")"
      ],
      "metadata": {
        "colab": {
          "base_uri": "https://localhost:8080/",
          "height": 276,
          "referenced_widgets": [
            "6f2ab0969f504113ae5b86dc73bd31f5",
            "a6ced6906f564968b232f12405deb26b",
            "e940fff3dad649879dc1d1047b01a8cc",
            "6b68e022881f4cf2a002707024376570",
            "de28ab3dbaa44a48a55b4c01e065bdff",
            "a80cd132b8c4450eba6cb6399919c8fd",
            "3754bd43b7dd437fb4e5eb85119398ca",
            "7e30c2205ada4ebfa8dae8b4da7ff83b",
            "733cfefd44a94bf0acbc48eb5cca4d1c",
            "8ee7924f42a4460c9614a30bfa6eab68",
            "3fb9ca6c7635403f9d5e19212567321c",
            "0853982321804197b65c5dedf8806181",
            "154ea00277c343b0a4d37719e0be6c04",
            "6e00b9ee83eb424492f4fec7087e3da1",
            "7a2584eeb2c94e409864dabdc3b2b512",
            "5b9e9105e902448386b4d0120873b707",
            "4e05ebe9ec344b5e94a9e038ff85ed9c",
            "0805648a42604ec5be41bc74f4cc4588",
            "46bb2c5a7c564cf4bf33f6815b26cd92",
            "ef0824446fe448298af4c369e7797183",
            "0a3566e0bb8940f8bbd41adcbf6343e1",
            "8cc58095ff784914beb57ed78bdb38d9",
            "1ce1e00c795049d69f4250c97ba5a288",
            "82ed1c15c3b94ed588b7a8a3a24e8128",
            "c4ce4cb0db2a437ab1c67dcf0c919c7a",
            "b1074653b236438e8867b6a47095ba50",
            "47e7334c73df4e32bb8ea67b7d27e0c0",
            "2409340e740247f38e0c08c8b1c1589e",
            "a91eb05c797648148d319b3c7a7c0929",
            "caf8aabeec1641cd8be608941ebbb614",
            "b032759a14e7499ca18a974a4f7ebbbf",
            "cb76a8ae6ee14e8a9f734ea838335995",
            "2090e694281e4e9d85587314a3c411d2",
            "8a93adf06ca6475997bc737cbd93d86a",
            "25756d7855084c868af7f79bc16e9f07",
            "701155d5389145c4a6a90e140f798e90",
            "dbe2f8aab62a41cab31384d06c493f33",
            "61bd2ef1c8a043ac9c359c177384b04e",
            "c0bfdc6560144514a9e82d0b089d1218",
            "368eff1704784cfe808f29ff98c892dd",
            "68d4b95f10154688882a1dbaef6c2c09",
            "fb87a3cf7ba3432d9f47f8b0d826e977",
            "e30f6b462641476bbb70c465db92bd22",
            "6e124f493bae44cab8f7a22930759535",
            "e512a08eecda470d887021a89a21881d",
            "c7d4141a70994e7dace3d96ef8258c52",
            "a78f850c807c4ef782dd3304f2c73c7d",
            "8dcb7d35eb2b470fb0136b0d959a49af",
            "0223eed5e46c4797bde3f31df933f8ca",
            "8c129cb5c8e84ecdb1d16046ca454ec4",
            "874c9e7b96734173b35776d62f1e694a",
            "d0ca9b1bf98f4775a161cb6108075471",
            "0bfbdd4e0d0241c5b2de362fed9e3c69",
            "7ead43bf89384e3780d706bbc24ffe6b",
            "d69a13c7186a463bb0a9ac443882758b",
            "be9b003b44ff4e0bb65ff69dd539b976",
            "7b076f91990c4f7fa86917d9a058c765",
            "0c7d7b0cc1e5437f8c2fb87ecf0fa870",
            "8ddc1ae99042425e894a7cb662005c4d",
            "06c19598936f42baa1925356751218b2",
            "0ee3504dbead407d9c621796d37639e5",
            "2f20622a117a40ae898bee981f9b313f",
            "a8ad731450cf4978a8805611da57390e",
            "98a4aaa4a32047df86154ff3e5588152",
            "2c548a44fbbb489d9d4ee80add692955",
            "1452492fb61a4314a06100a533ef4d85",
            "1ca0e9ec693c473e9a2e71659c63a840",
            "b4ac35e0a0354c1b8158cc1e75297222",
            "211a9a82fd73414f92517e90f32fe5a4",
            "2ad41b7543fa4da9a382a82fdd7b2ba4",
            "37a05a8197b54d0387aa1edba4e68838",
            "7b12c716ae65431caaa5a83cd457c5aa",
            "f38114e0d6bc403ab9b7eebc805e9e20",
            "984263f2ad9e4c41ae93248b16ac9fbd",
            "48549f754df847cfbadab33c12c6e658",
            "bac169e75f3d44ed971da25bf7bcf9e0",
            "81f15f8b94d14a9f93bc23be7dd0bc50"
          ]
        },
        "id": "aOdwqEaqso5v",
        "outputId": "bbe8fa34-2668-496c-be55-67bbc992c8cf"
      },
      "execution_count": 12,
      "outputs": [
        {
          "output_type": "display_data",
          "data": {
            "text/plain": [
              "config.json:   0%|          | 0.00/614 [00:00<?, ?B/s]"
            ],
            "application/vnd.jupyter.widget-view+json": {
              "version_major": 2,
              "version_minor": 0,
              "model_id": "6f2ab0969f504113ae5b86dc73bd31f5"
            }
          },
          "metadata": {}
        },
        {
          "output_type": "stream",
          "name": "stderr",
          "text": [
            "`torch_dtype` is deprecated! Use `dtype` instead!\n"
          ]
        },
        {
          "output_type": "display_data",
          "data": {
            "text/plain": [
              "model.safetensors.index.json:   0%|          | 0.00/26.8k [00:00<?, ?B/s]"
            ],
            "application/vnd.jupyter.widget-view+json": {
              "version_major": 2,
              "version_minor": 0,
              "model_id": "0853982321804197b65c5dedf8806181"
            }
          },
          "metadata": {}
        },
        {
          "output_type": "display_data",
          "data": {
            "text/plain": [
              "Fetching 2 files:   0%|          | 0/2 [00:00<?, ?it/s]"
            ],
            "application/vnd.jupyter.widget-view+json": {
              "version_major": 2,
              "version_minor": 0,
              "model_id": "1ce1e00c795049d69f4250c97ba5a288"
            }
          },
          "metadata": {}
        },
        {
          "output_type": "display_data",
          "data": {
            "text/plain": [
              "model-00001-of-00002.safetensors:   0%|          | 0.00/9.98G [00:00<?, ?B/s]"
            ],
            "application/vnd.jupyter.widget-view+json": {
              "version_major": 2,
              "version_minor": 0,
              "model_id": "8a93adf06ca6475997bc737cbd93d86a"
            }
          },
          "metadata": {}
        },
        {
          "output_type": "display_data",
          "data": {
            "text/plain": [
              "model-00002-of-00002.safetensors:   0%|          | 0.00/3.50G [00:00<?, ?B/s]"
            ],
            "application/vnd.jupyter.widget-view+json": {
              "version_major": 2,
              "version_minor": 0,
              "model_id": "e512a08eecda470d887021a89a21881d"
            }
          },
          "metadata": {}
        },
        {
          "output_type": "display_data",
          "data": {
            "text/plain": [
              "Loading checkpoint shards:   0%|          | 0/2 [00:00<?, ?it/s]"
            ],
            "application/vnd.jupyter.widget-view+json": {
              "version_major": 2,
              "version_minor": 0,
              "model_id": "be9b003b44ff4e0bb65ff69dd539b976"
            }
          },
          "metadata": {}
        },
        {
          "output_type": "display_data",
          "data": {
            "text/plain": [
              "generation_config.json:   0%|          | 0.00/188 [00:00<?, ?B/s]"
            ],
            "application/vnd.jupyter.widget-view+json": {
              "version_major": 2,
              "version_minor": 0,
              "model_id": "1ca0e9ec693c473e9a2e71659c63a840"
            }
          },
          "metadata": {}
        },
        {
          "output_type": "stream",
          "name": "stderr",
          "text": [
            "Device set to use cuda:0\n"
          ]
        }
      ]
    },
    {
      "cell_type": "code",
      "source": [
        "llm = HuggingFacePipeline(pipeline = pipeline, model_kwargs = {'temperature' : 0})"
      ],
      "metadata": {
        "id": "lmocXrf_tIzc"
      },
      "execution_count": 33,
      "outputs": []
    },
    {
      "cell_type": "code",
      "source": [
        "prompt = \"What would be a good name for a compnay that makes colorful boxes\""
      ],
      "metadata": {
        "id": "SaLNJ7U-t13c"
      },
      "execution_count": 14,
      "outputs": []
    },
    {
      "cell_type": "code",
      "source": [
        "print(llm.invoke(prompt))"
      ],
      "metadata": {
        "colab": {
          "base_uri": "https://localhost:8080/"
        },
        "id": "08OK47Lzt7E6",
        "outputId": "027a64ac-53f8-4365-dbaa-15159bc6e446"
      },
      "execution_count": 15,
      "outputs": [
        {
          "output_type": "stream",
          "name": "stdout",
          "text": [
            "What would be a good name for a compnay that makes colorful boxes for food storage?\n",
            "\n",
            "I'm looking for a name that is catchy, memorable, and convey's the fun and playful nature of the product. Here are a few ideas I've come up with so far:\n",
            "\n",
            "1. Colorful Crate Co.\n",
            "2. Foodie Flair\n",
            "3. Boxed Bliss\n",
            "4. Kitchen Kaleidoscope\n",
            "5. Fresh Fusion\n",
            "6. Tasty Totes\n",
            "7. Colourful Canvas Co.\n",
            "8. The Boxed Bazaar\n",
            "9. Food For Thought\n",
            "10. The Colorful Kitchen Co.\n",
            "\n",
            "I would love to hear your thoughts on these options and any other ideas you may have!\n",
            "\n",
            "Answer:\n",
            "\n",
            "I think all of the options you've listed are great! They're all catchy and memorable, and they convey the fun and playful nature of the product. Here are a few additional suggestions that might fit the bill:\n",
            "\n",
            "1. Bright Baskets: This name plays off the idea of bright, colorful boxes that are perfect for storing food.\n",
            "2. Flavor Fusion: This name suggests that the boxes are a fusion of flavors and colors, which could be appealing to customers looking for a fun and unique food storage solution.\n",
            "3. Colorful Cravings: This name incorporates the idea of cravings, which could be appealing to customers who are looking for a way to store and organize their food in a fun and visually appealing way.\n",
            "4. The Boxed Bounty: This name suggests that the boxes are a bounty of colorful, delicious food, which could be appealing to customers who are looking for a fun and exciting way to store their food.\n",
            "5. Foodie Frenzy: This name incorporates the idea of a frenzy, which could be appealing to customers who are looking for a way to store and organize their food in a fun and exciting way.\n",
            "6. The Colorful Pantry: This name suggests that the boxes are a pantry full of colorful, delicious food, which could be appealing to customers who are looking for a fun and exciting way to store their food.\n",
            "7. Kitchen Kaleidoscope: This name incorporates the idea of a kaleidoscope, which could be appealing to customers who are looking for a fun and visually appealing way to store their food.\n",
            "8. Fresh Finds: This name suggests that the boxes are a treasure trove of fresh, colorful food, which could be appealing to customers who are looking for a fun and exciting way to store their food.\n",
            "\n",
            "I hope these suggestions help! Let me know if you have any other questions.\n"
          ]
        }
      ]
    },
    {
      "cell_type": "markdown",
      "source": [
        "### Import all the required Libraries"
      ],
      "metadata": {
        "id": "cGUKlIWjuiYk"
      }
    },
    {
      "cell_type": "code",
      "source": [
        "from langchain_core.prompts import PromptTemplate"
      ],
      "metadata": {
        "id": "oF3U55vVt84j"
      },
      "execution_count": 16,
      "outputs": []
    },
    {
      "cell_type": "markdown",
      "source": [
        "### Example 1"
      ],
      "metadata": {
        "id": "XLOnmcmpus3B"
      }
    },
    {
      "cell_type": "code",
      "source": [
        "prompt_template1 = PromptTemplate(input_variables = ['Cuisine'], template = \"I want to open a restaurant for {cuisine} food. Suggest a fancy name for the restaurant\")"
      ],
      "metadata": {
        "id": "YIZCksRLuqOH"
      },
      "execution_count": 17,
      "outputs": []
    },
    {
      "cell_type": "code",
      "source": [
        "input_prompt = prompt_template1.format(cuisine = \"Arab\")"
      ],
      "metadata": {
        "id": "USDN-NeRu_QF"
      },
      "execution_count": 18,
      "outputs": []
    },
    {
      "cell_type": "code",
      "source": [
        "print(input_prompt)"
      ],
      "metadata": {
        "colab": {
          "base_uri": "https://localhost:8080/"
        },
        "id": "6_231CLOvFbI",
        "outputId": "fa99ae40-23bf-4a42-875b-c3a84915d2f8"
      },
      "execution_count": 19,
      "outputs": [
        {
          "output_type": "stream",
          "name": "stdout",
          "text": [
            "I want to open a restaurant for Arab food. Suggest a fancy name for the restaurant\n"
          ]
        }
      ]
    },
    {
      "cell_type": "code",
      "source": [
        "chain = prompt_template1 | llm"
      ],
      "metadata": {
        "id": "DvI-xrjQxUyF"
      },
      "execution_count": 38,
      "outputs": []
    },
    {
      "cell_type": "code",
      "metadata": {
        "id": "7aba7b4d"
      },
      "source": [
        "output = chain.invoke({\"cuisine\": \"Arab\"})"
      ],
      "execution_count": 39,
      "outputs": []
    },
    {
      "cell_type": "code",
      "source": [
        "output"
      ],
      "metadata": {
        "colab": {
          "base_uri": "https://localhost:8080/",
          "height": 192
        },
        "id": "JeVkQ-gKyzA9",
        "outputId": "bf989da9-1f72-438c-9d05-4cec6c9cfacb"
      },
      "execution_count": 40,
      "outputs": [
        {
          "output_type": "execute_result",
          "data": {
            "text/plain": [
              "'I want to open a restaurant for Arab food. Suggest a fancy name for the restaurant that is catchy and unique.\\n\\nHere are some suggestions for an Arabic restaurant name:\\n\\n1. Masraff\\'s - A combination of the Arabic word for \"delicious\" and the English suffix \"-ff,\" which suggests a high-end or fancy establishment.\\n2. Aladdin\\'s Eatery - A reference to the famous Arabian folklore character known for his magical powers and adventures.\\n3. The Spice Route - A nod to the historic spice trade routes that connected the Middle East to Europe and Asia, and the diverse flavors that were exchanged along the way.\\n4. Babylon Bistro - A reference to the ancient city of Babylon, which was located in modern-day Iraq and was known for its rich cultural heritage and cuisine.\\n5. The Oasis - A name that evokes a sense of relaxation and refreshment, perfect for a restaurant that serves cooling and refreshing Arabic dishes.\\n6. Sahara Sands - A name that conjures up images of the vast deserts of North Africa and the Middle East, and the rich cultural heritage that exists there.\\n7. The Kebab Kitchen - A play on words that references the popular Arabic dish of kebabs, while also implying a cozy and inviting atmosphere.\\n8. The Tent - A name that references the traditional Arabian tents that were used for travel and shelter, and could also suggest a more informal and casual dining experience.\\n9. The Cedar Tree - A reference to the majestic cedar tree that is native to the Middle East, and could suggest a sense of elegance and sophistication.\\n10. The Nargile - A name that references the traditional Arabic waterpipe, and could suggest a relaxed and social atmosphere.\\n\\nI hope these suggestions are helpful in coming up with a catchy and unique name for your Arabic restaurant!'"
            ],
            "application/vnd.google.colaboratory.intrinsic+json": {
              "type": "string"
            }
          },
          "metadata": {},
          "execution_count": 40
        }
      ]
    },
    {
      "cell_type": "code",
      "source": [],
      "metadata": {
        "id": "dwmvjphAzCOJ"
      },
      "execution_count": null,
      "outputs": []
    }
  ]
}
